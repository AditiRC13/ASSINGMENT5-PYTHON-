{
 "cells": [
  {
   "cell_type": "code",
   "execution_count": 2,
   "id": "a59808ad-c86f-4b39-a605-2561a30cb343",
   "metadata": {},
   "outputs": [
    {
     "name": "stdout",
     "output_type": "stream",
     "text": [
      "[('Sachin Tendulkar', 34357), ('Ricky Ponting', 27483), ('Jack Kallis', 25534), ('Virat Kohli', 24936)]\n"
     ]
    }
   ],
   "source": [
    "crickter_data=[('Sachin Tendulkar', 34357), ('Ricky Ponting', 27483), ('Jack Kallis', 25534), ('Virat Kohli', 24936)]\n",
    "sor_data = sorted(crickter_data ,key=lambda x:x[1],reverse=True)\n",
    "print(sor_data)"
   ]
  },
  {
   "cell_type": "code",
   "execution_count": 3,
   "id": "ea292137-3ed7-4773-9f96-37a52d1b4471",
   "metadata": {},
   "outputs": [
    {
     "data": {
      "text/plain": [
       "[1, 4, 9, 16, 25, 36, 49, 64, 81, 100]"
      ]
     },
     "execution_count": 3,
     "metadata": {},
     "output_type": "execute_result"
    }
   ],
   "source": [
    "digits=[1, 2, 3, 4, 5, 6, 7, 8, 9, 10]\n",
    "list(map(lambda x:x**2,digits))"
   ]
  },
  {
   "cell_type": "code",
   "execution_count": 4,
   "id": "8bdcb3a7-78c9-43ca-a8cb-accd6379346b",
   "metadata": {},
   "outputs": [
    {
     "data": {
      "text/plain": [
       "['1', '2', '3', '4', '5', '6', '7', '8', '9', '10']"
      ]
     },
     "execution_count": 4,
     "metadata": {},
     "output_type": "execute_result"
    }
   ],
   "source": [
    "digits=[1, 2, 3, 4, 5, 6, 7, 8, 9, 10]\n",
    "list(map(lambda x: str(x),digits))"
   ]
  },
  {
   "cell_type": "code",
   "execution_count": 5,
   "id": "7c77118c-59e7-445c-9883-c94d9377abba",
   "metadata": {
    "tags": []
   },
   "outputs": [
    {
     "data": {
      "text/plain": [
       "325"
      ]
     },
     "execution_count": 5,
     "metadata": {},
     "output_type": "execute_result"
    }
   ],
   "source": [
    "digits =[1,2,3,4,5,6,7,8,9,10,11,12,13,14,15,16,17,18,19,20,21,22,23,24,25]\n",
    "from functools import reduce\n",
    "reduce(lambda a,b :a+b,digits)"
   ]
  },
  {
   "cell_type": "code",
   "execution_count": 6,
   "id": "2cd9dcc6-4660-49d4-a53d-92f55fd066d8",
   "metadata": {},
   "outputs": [
    {
     "data": {
      "text/plain": [
       "[2, 3, 6, 9, 27, 60, 90, 120, 46]"
      ]
     },
     "execution_count": 6,
     "metadata": {},
     "output_type": "execute_result"
    }
   ],
   "source": [
    "digits=[2, 3, 6, 9, 27, 60, 90, 120, 55, 46]\n",
    "list(filter(lambda x:  x%2==0 or  x%3==0 ,digits))"
   ]
  },
  {
   "cell_type": "code",
   "execution_count": 7,
   "id": "e730126f-8ad5-4a06-a506-048f8e32bce1",
   "metadata": {},
   "outputs": [
    {
     "name": "stdout",
     "output_type": "stream",
     "text": [
      "['php', 'aba', 'radar', 'level']\n"
     ]
    }
   ],
   "source": [
    "data =['python', 'php', 'aba', 'radar', 'level']\n",
    "result=list(filter(lambda x:(x ==\"\".join(reversed(x))),data))\n",
    "print(result)\n",
    "                             "
   ]
  },
  {
   "cell_type": "code",
   "execution_count": null,
   "id": "6ddc0c21-a684-4bd5-b8eb-4595e4b94553",
   "metadata": {},
   "outputs": [],
   "source": []
  }
 ],
 "metadata": {
  "kernelspec": {
   "display_name": "Python 3 (ipykernel)",
   "language": "python",
   "name": "python3"
  },
  "language_info": {
   "codemirror_mode": {
    "name": "ipython",
    "version": 3
   },
   "file_extension": ".py",
   "mimetype": "text/x-python",
   "name": "python",
   "nbconvert_exporter": "python",
   "pygments_lexer": "ipython3",
   "version": "3.10.8"
  }
 },
 "nbformat": 4,
 "nbformat_minor": 5
}
